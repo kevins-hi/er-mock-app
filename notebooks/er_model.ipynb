{
 "cells": [
  {
   "cell_type": "code",
   "execution_count": 16,
   "metadata": {},
   "outputs": [
    {
     "name": "stdout",
     "output_type": "stream",
     "text": [
      "Number of features: 52\n",
      "Target classes: ['angry', 'fear', 'happy', 'neutral', 'sad', 'surprise']\n",
      "Training set size: 25233\n",
      "Test set size: 6321\n"
     ]
    }
   ],
   "source": [
    "import pandas as pd\n",
    "from sklearn.preprocessing import StandardScaler\n",
    "from sklearn.svm import SVC\n",
    "from sklearn.metrics import classification_report, confusion_matrix, accuracy_score\n",
    "\n",
    "df = pd.read_csv('fer2013.csv')\n",
    "df = df[df['label'] != 'disgust']\n",
    "\n",
    "feature_columns = [col for col in df.columns if col not in ['image_id', 'label', 'split']]\n",
    "X = df[feature_columns]\n",
    "y = df['label']\n",
    "\n",
    "print(f\"Number of features: {len(feature_columns)}\")\n",
    "print(f\"Target classes: {sorted(y.unique())}\")\n",
    "\n",
    "train_mask = df['split'] == 'train'\n",
    "test_mask = df['split'] == 'test'\n",
    "\n",
    "X_train = X[train_mask]\n",
    "X_test = X[test_mask]\n",
    "y_train = y[train_mask]\n",
    "y_test = y[test_mask]\n",
    "\n",
    "print(f\"Training set size: {X_train.shape[0]}\")\n",
    "print(f\"Test set size: {X_test.shape[0]}\")\n",
    "\n",
    "# Scale the features (important for SVM)\n",
    "scaler = StandardScaler()\n",
    "X_train_scaled = scaler.fit_transform(X_train)\n",
    "X_test_scaled = scaler.transform(X_test)\n"
   ]
  },
  {
   "cell_type": "code",
   "execution_count": 17,
   "metadata": {},
   "outputs": [
    {
     "name": "stdout",
     "output_type": "stream",
     "text": [
      "Training SVC model...\n",
      "Model training completed!\n"
     ]
    }
   ],
   "source": [
    "# Train SVC model\n",
    "print(\"Training SVC model...\")\n",
    "svc_model = SVC(\n",
    "    kernel='rbf',  # Radial basis function kernel\n",
    "    C=1.0,         # Regularization parameter\n",
    "    gamma='scale', # Kernel coefficient\n",
    "    random_state=42\n",
    ")\n",
    "\n",
    "# Train the model\n",
    "svc_model.fit(X_train_scaled, y_train)\n",
    "print(\"Model training completed!\")\n"
   ]
  },
  {
   "cell_type": "code",
   "execution_count": null,
   "metadata": {},
   "outputs": [
    {
     "name": "stdout",
     "output_type": "stream",
     "text": [
      "Training Accuracy: 0.6347\n",
      "Test Accuracy: 0.5740\n"
     ]
    }
   ],
   "source": [
    "# Make predictions and evaluate\n",
    "# Make predictions\n",
    "y_train_pred = svc_model.predict(X_train_scaled)\n",
    "y_test_pred = svc_model.predict(X_test_scaled)\n",
    "\n",
    "# Calculate accuracies\n",
    "train_accuracy = accuracy_score(y_train, y_train_pred)\n",
    "test_accuracy = accuracy_score(y_test, y_test_pred)\n",
    "\n",
    "print(f\"Training Accuracy: {train_accuracy:.4f}\")\n",
    "print(f\"Test Accuracy: {test_accuracy:.4f}\")\n",
    "\n",
    "# Default\n",
    "# Training Accuracy: 0.6270\n",
    "# Test Accuracy: 0.5667\n",
    "\n",
    "# No Disgust\n",
    "# Training Accuracy: 0.6347\n",
    "# Test Accuracy: 0.5740"
   ]
  },
  {
   "cell_type": "code",
   "execution_count": 19,
   "metadata": {},
   "outputs": [
    {
     "name": "stdout",
     "output_type": "stream",
     "text": [
      "Classification Report (Test Set):\n",
      "              precision    recall  f1-score   support\n",
      "\n",
      "       angry       0.49      0.40      0.44       815\n",
      "        fear       0.46      0.20      0.28       885\n",
      "       happy       0.77      0.85      0.81      1683\n",
      "     neutral       0.44      0.62      0.51      1162\n",
      "         sad       0.44      0.43      0.43      1020\n",
      "    surprise       0.68      0.70      0.69       756\n",
      "\n",
      "    accuracy                           0.57      6321\n",
      "   macro avg       0.55      0.53      0.53      6321\n",
      "weighted avg       0.57      0.57      0.56      6321\n",
      "\n",
      "\n",
      "Confusion Matrix (Test Set):\n",
      "[[ 327   50   74  191  129   44]\n",
      " [ 110  176   97  224  171  107]\n",
      " [  48   15 1434  113   40   33]\n",
      " [  65   41  100  724  193   39]\n",
      " [  87   53   92  330  437   21]\n",
      " [  31   49   54   68   24  530]]\n"
     ]
    }
   ],
   "source": [
    "# Detailed evaluation\n",
    "print(\"Classification Report (Test Set):\")\n",
    "print(classification_report(y_test, y_test_pred))\n",
    "\n",
    "print(\"\\nConfusion Matrix (Test Set):\")\n",
    "cm = confusion_matrix(y_test, y_test_pred)\n",
    "print(cm)\n"
   ]
  },
  {
   "cell_type": "code",
   "execution_count": null,
   "metadata": {},
   "outputs": [],
   "source": [
    "# Optional - Hyperparameter tuning with GridSearch\n",
    "from sklearn.model_selection import GridSearchCV\n",
    "\n",
    "# Define parameter grid for tuning\n",
    "param_grid = {\n",
    "    'C': [0.1, 1, 10],\n",
    "    'gamma': ['scale', 'auto', 0.001, 0.01, 0.1],\n",
    "    'kernel': ['rbf', 'linear']\n",
    "}\n",
    "\n",
    "print(\"Starting hyperparameter tuning...\")\n",
    "grid_search = GridSearchCV(\n",
    "    SVC(random_state=42),\n",
    "    param_grid,\n",
    "    cv=3,  # 3-fold cross-validation\n",
    "    scoring='accuracy',\n",
    "    n_jobs=-1,  # Use all available cores\n",
    "    verbose=1\n",
    ")\n",
    "\n",
    "# This might take a while depending on your data size\n",
    "grid_search.fit(X_train_scaled, y_train)\n",
    "\n",
    "print(f\"Best parameters: {grid_search.best_params_}\")\n",
    "print(f\"Best cross-validation score: {grid_search.best_score_:.4f}\")\n"
   ]
  },
  {
   "cell_type": "code",
   "execution_count": null,
   "metadata": {},
   "outputs": [],
   "source": [
    "# Train final model with best parameters\n",
    "best_svc = grid_search.best_estimator_\n",
    "final_predictions = best_svc.predict(X_test_scaled)\n",
    "final_accuracy = accuracy_score(y_test, final_predictions)\n",
    "\n",
    "print(f\"Final model test accuracy: {final_accuracy:.4f}\")\n",
    "print(\"\\nFinal Classification Report:\")\n",
    "print(classification_report(y_test, final_predictions))\n"
   ]
  }
 ],
 "metadata": {
  "kernelspec": {
   "display_name": "base",
   "language": "python",
   "name": "python3"
  },
  "language_info": {
   "codemirror_mode": {
    "name": "ipython",
    "version": 3
   },
   "file_extension": ".py",
   "mimetype": "text/x-python",
   "name": "python",
   "nbconvert_exporter": "python",
   "pygments_lexer": "ipython3",
   "version": "3.12.7"
  }
 },
 "nbformat": 4,
 "nbformat_minor": 2
}
